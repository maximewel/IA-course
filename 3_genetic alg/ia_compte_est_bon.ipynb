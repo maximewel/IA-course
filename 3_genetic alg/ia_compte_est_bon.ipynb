{
 "cells": [
  {
   "cell_type": "markdown",
   "metadata": {},
   "source": [
    "# IA - Le compte est bon\n",
    "First have a look at the instructions of the lab:\n",
    "http://www.ai-junkie.com/ga/intro/gat3.html"
   ]
  },
  {
   "cell_type": "markdown",
   "metadata": {},
   "source": [
    "## Getting started\n",
    "To have the following code working you will need to install the DEAP framework (https://github.com/deap/deap).\n",
    "We encourage you to use **_pip_**:\n",
    "\n",
    "`pip install deap`\n",
    "\n",
    "If you use conda you can try:\n",
    "`conda install -c conda-forge deap`\n",
    "\n",
    "_Note: Linux package managers like apt-get, yum, etc. usually provide an outdated version._"
   ]
  },
  {
   "cell_type": "code",
   "execution_count": 86,
   "metadata": {},
   "outputs": [],
   "source": [
    "from deap import base\n",
    "from deap import creator\n",
    "from deap import tools\n",
    "from deap import algorithms\n",
    "import operator\n",
    "from enum import Enum\n",
    "from collections import namedtuple\n",
    "import random\n",
    "import time"
   ]
  },
  {
   "cell_type": "markdown",
   "metadata": {},
   "source": [
    "## Private part\n",
    "_=== No need to change something here. ===_  \n",
    "\n",
    "You can find here constants and private functions useful for the lab. "
   ]
  },
  {
   "cell_type": "markdown",
   "metadata": {},
   "source": [
    "Remember, four bits are required to represent the range of characters used:\n",
    "\n",
    "0:&nbsp; &nbsp; &nbsp;0000  \n",
    "1:&nbsp; &nbsp; &nbsp;0001  \n",
    "2:&nbsp; &nbsp; &nbsp;0010  \n",
    "3:&nbsp; &nbsp; &nbsp;0011  \n",
    "4:&nbsp; &nbsp; &nbsp;0100  \n",
    "5:&nbsp; &nbsp; &nbsp;0101  \n",
    "6:&nbsp; &nbsp; &nbsp;0110  \n",
    "7:&nbsp; &nbsp; &nbsp;0111  \n",
    "8:&nbsp; &nbsp; &nbsp;1000  \n",
    "9:&nbsp; &nbsp; &nbsp;1001  \n",
    "+:&nbsp; &nbsp; &nbsp;1010  \n",
    "-:&nbsp; &nbsp; &nbsp;1011  \n",
    "*:&nbsp; &nbsp; &nbsp;1100  \n",
    "/:&nbsp; &nbsp; &nbsp;1101  "
   ]
  },
  {
   "cell_type": "code",
   "execution_count": 87,
   "metadata": {},
   "outputs": [],
   "source": [
    "# Each operand or operator is described by 4 bits\n",
    "CODE_LENGTH = 4\n",
    "\n",
    "# In this example, we fix the number of operands to 5\n",
    "NB_OPERANDS = 5\n",
    "\n",
    "# The maximum number of operators is NB_OPERANDS - 1\n",
    "# ex. 5 + 3 / 2 \n",
    "# three operands: 5, 3, 2\n",
    "# two operators: +, /\n",
    "NB_OPERATORS = NB_OPERANDS - 1\n",
    "\n",
    "\n",
    "CHROMOSOME_LENGTH = NB_OPERANDS * CODE_LENGTH + NB_OPERATORS * CODE_LENGTH\n",
    "\n",
    "# We have three types of code: operands, operators and undefined symbols\n",
    "class CodeType(Enum):\n",
    "    OPERAND = 1\n",
    "    OPERATOR = 2\n",
    "    NOTHING = 3\n",
    "\n",
    "# namedtuple(\"typename, field_names[...]\") returns a new tuple subclass named 'typename'. \n",
    "# The new subclass is used to create tuple-like objects that have fields accessible \n",
    "# by attribute lookup as well as being indexable and iterable\n",
    "Code = namedtuple(\"Code\", [\"code_type\", \"apply\", \"str\"])\n",
    "\n",
    "OPERATORS = {\n",
    "    10: (operator.add, \"+\"),  # Standard operators as functions, see https://docs.python.org/3/library/operator.html\n",
    "    11: (operator.sub, \"-\"),\n",
    "    12: (operator.mul, \"*\"),\n",
    "    13: (operator.truediv, \"/\")\n",
    "}\n",
    "\n",
    "def _parse_code(code):\n",
    "    \"\"\" Convert bit string to a Code namedtuple \"\"\"\n",
    "    int_value = int(code, 2)\n",
    "    if int_value >= 0 and int_value < 10:\n",
    "        return Code(CodeType.OPERAND, lambda: int_value, str(int_value))\n",
    "    elif int_value >= 10 and int_value <= 13:\n",
    "        return Code(CodeType.OPERATOR, OPERATORS[int_value][0], OPERATORS[int_value][1])\n",
    "    else:\n",
    "        return Code(CodeType.NOTHING, None, \"_\")\n",
    "    \n",
    "def _decode(individual):\n",
    "    \"\"\" Parse each code of the full chromosome (aka individual) \"\"\"\n",
    "    chromosome_str = \"\".join([str(gene) for gene in individual])\n",
    "    codes = [_parse_code(chromosome_str[i: i + CODE_LENGTH]) for i in range(0, len(chromosome_str), CODE_LENGTH)]\n",
    "    return codes"
   ]
  },
  {
   "cell_type": "markdown",
   "metadata": {},
   "source": [
    "## Public part\n",
    "_=== No need to change something here. ===_  \n",
    "\n",
    "You find here functions that may be interesting for you. "
   ]
  },
  {
   "cell_type": "code",
   "execution_count": 88,
   "metadata": {},
   "outputs": [],
   "source": [
    "def display_chromosome(individual):\n",
    "    \"\"\" Convert chromosome to a readable format (e.g. 3 + 5 / 6) \"\"\"\n",
    "    return \" \".join(code.str for code in _decode(individual))\n",
    "\n",
    "def compute_chromosome(individual):\n",
    "    \"\"\" Compute operations described by a the chromosome \"\"\"\n",
    "    codes = _decode(individual)\n",
    "    first_operand = None\n",
    "    operation = None\n",
    "    snd_operand = None\n",
    "    result = 0\n",
    "    for code in codes:\n",
    "        if not first_operand:\n",
    "            if code.code_type == CodeType.OPERAND:\n",
    "                first_operand = code.apply()\n",
    "        elif not operation:\n",
    "            if code.code_type == CodeType.OPERATOR:\n",
    "                operation = code.apply\n",
    "        elif not snd_operand:\n",
    "            if code.code_type == CodeType.OPERAND:\n",
    "                snd_operand = code.apply()\n",
    "                try:\n",
    "                    result = operation(first_operand, snd_operand)\n",
    "                except ZeroDivisionError:\n",
    "                    pass\n",
    "                first_operand = result\n",
    "                operation = None\n",
    "                snd_operand = None\n",
    "    return result"
   ]
  },
  {
   "cell_type": "markdown",
   "metadata": {},
   "source": [
    "## Deap framework\n",
    "_=== No need to change something here. ===_  \n",
    "\n",
    "You find here a preparation of tools necessary for our algorithm. "
   ]
  },
  {
   "cell_type": "code",
   "execution_count": 89,
   "metadata": {},
   "outputs": [],
   "source": [
    "toolbox = base.Toolbox()"
   ]
  },
  {
   "cell_type": "markdown",
   "metadata": {},
   "source": [
    "The **fitness** will measure the proximity between the result of the chromosome and a target value.\n",
    "The **lower the proximity is - the better is our chromosome** so we are in a minimization problem. \n",
    "\n",
    "/!\\ Be aware that `values` and `weights` must be tuples."
   ]
  },
  {
   "cell_type": "markdown",
   "metadata": {},
   "source": [
    "First we create the code of our fitness function; then we add it into our toolbox. "
   ]
  },
  {
   "cell_type": "code",
   "execution_count": 90,
   "metadata": {},
   "outputs": [],
   "source": [
    "def fitness(individual, target):\n",
    "    return (abs(compute_chromosome(individual) - target),) # Tuple !\n",
    "\n",
    "toolbox.register(\"fitness\", fitness)"
   ]
  },
  {
   "cell_type": "markdown",
   "metadata": {},
   "source": [
    "The following line creates, in the `creator`, a ready to use single objective minimizing fitness named _FitnessMin_.\n",
    "\n",
    "`base.Fitness`: if values are provided as a tuple, the fitness is initalized using those values, otherwise it is empty (or invalid).  \n",
    "`weights` is used to define a maximization/minimization by setting 1.0 or -1.0."
   ]
  },
  {
   "cell_type": "code",
   "execution_count": 91,
   "metadata": {},
   "outputs": [],
   "source": [
    "creator.create(\"FitnessMin\", base.Fitness, weights=(-1.0,))\n"
   ]
  },
  {
   "cell_type": "markdown",
   "metadata": {},
   "source": [
    "`deap.creator.create(name, base[, attribute[, ...]])`  \n",
    "The `create()` function takes at least two arguments, a name for the newly created class and a base class. Any subsequent argument becomes an attribute of the class. "
   ]
  },
  {
   "cell_type": "markdown",
   "metadata": {},
   "source": [
    "A `deep.creator.Individual` will be list of genes with an attribute 'fitness' of type `deep.creator.FitnessMin` just created."
   ]
  },
  {
   "cell_type": "code",
   "execution_count": 92,
   "metadata": {},
   "outputs": [],
   "source": [
    "creator.create(\"Individual\", list, fitness=creator.FitnessMin) "
   ]
  },
  {
   "cell_type": "markdown",
   "metadata": {},
   "source": [
    "### TODO 1:\n",
    "Look at the documentation of the DEAP framework and register into the toolbox the following tools:\n",
    "- **Crossover** between two individuals will be a simple one point crossover.\n",
    "- **Mutation** of a individual will flip the bit in the gene with a probability of 10%.\n",
    "- **Selection** of k individuals will be done using a tournament.\n",
    "Then, complete the following cell:"
   ]
  },
  {
   "cell_type": "code",
   "execution_count": 93,
   "metadata": {},
   "outputs": [],
   "source": [
    "toolbox.register(\"mate\", tools.cxOnePoint)\n",
    "toolbox.register(\"mutate\", tools.mutFlipBit, indpb=0.1)\n",
    "toolbox.register(\"select\", tools.selTournament)"
   ]
  },
  {
   "cell_type": "markdown",
   "metadata": {},
   "source": [
    "Finally we provide initiation operations. A **population** will be a list of `deep.creator.Individual`. Each gene will be set randomly to 0 or 1."
   ]
  },
  {
   "cell_type": "code",
   "execution_count": 94,
   "metadata": {},
   "outputs": [],
   "source": [
    "toolbox.register(\"init_gene\", random.randint, 0, 1)\n",
    "toolbox.register(\"init_individual\", tools.initRepeat, creator.Individual, toolbox.init_gene, CHROMOSOME_LENGTH)\n",
    "toolbox.register(\"init_population\", tools.initRepeat, list, toolbox.init_individual)"
   ]
  },
  {
   "cell_type": "markdown",
   "metadata": {},
   "source": [
    "## TODO 2: Solve \"Le compte est bon\"\n",
    "It'y sour turn! Using Deap and previous tools design a loop to obtain **TARGET** value in a maximum time of **MAX_TIME**.\n",
    "- Create the **evaluate_population()** method to calculate the fitness of the population\n",
    "- Break the loop if an individual is optimal before **MAX_TIME** (i.e. his fitness = 0).\n",
    "- Display the best chromosome\n",
    "- Display the total time\n"
   ]
  },
  {
   "cell_type": "code",
   "execution_count": 95,
   "metadata": {},
   "outputs": [],
   "source": [
    "def evaluate_population(population, target):\n",
    "    for ind in population:\n",
    "        ind.fitness.values = toolbox.fitness(ind, target)\n",
    "\n",
    "toolbox.register(\"evaluate\", evaluate_population)\n",
    "\n",
    "def find_winners(population):\n",
    "    winners = [i for i in population if i.fitness.values[0] == 0]\n",
    "    return winners"
   ]
  },
  {
   "cell_type": "code",
   "execution_count": 96,
   "metadata": {},
   "outputs": [],
   "source": [
    "TARGET = 126\n",
    "MAX_TIME = 25  # seconds\n",
    "\n",
    "MUTPB = 0.2\n",
    "CXPB = 0.7\n",
    "tournSize = 8\n",
    "solution = None"
   ]
  },
  {
   "cell_type": "code",
   "execution_count": 97,
   "metadata": {
    "tags": []
   },
   "outputs": [
    {
     "output_type": "stream",
     "name": "stdout",
     "text": [
      "winner : [1, 1, 1, 0, 0, 0, 1, 1, 1, 0, 1, 0, 1, 0, 0, 1, 1, 0, 1, 0, 0, 1, 1, 0, 1, 1, 0, 0, 0, 1, 1, 1, 1, 0, 0, 0]\nfound in 34 iterations and 0.03490161895751953s\n"
     ]
    },
    {
     "output_type": "error",
     "ename": "NameError",
     "evalue": "name 'displayable_chromosome' is not defined",
     "traceback": [
      "\u001b[1;31m---------------------------------------------------------------------------\u001b[0m",
      "\u001b[1;31mNameError\u001b[0m                                 Traceback (most recent call last)",
      "\u001b[1;32m<ipython-input-97-a003d3576f19>\u001b[0m in \u001b[0;36m<module>\u001b[1;34m\u001b[0m\n\u001b[0;32m     45\u001b[0m     \u001b[0mprint\u001b[0m\u001b[1;33m(\u001b[0m\u001b[1;34mf\"winner : {winner}\"\u001b[0m\u001b[1;33m)\u001b[0m\u001b[1;33m\u001b[0m\u001b[1;33m\u001b[0m\u001b[0m\n\u001b[0;32m     46\u001b[0m     \u001b[0mprint\u001b[0m\u001b[1;33m(\u001b[0m\u001b[1;34mf\"found in {iterations} iterations and {timePassed}s\"\u001b[0m\u001b[1;33m)\u001b[0m\u001b[1;33m\u001b[0m\u001b[1;33m\u001b[0m\u001b[0m\n\u001b[1;32m---> 47\u001b[1;33m     \u001b[0mprint\u001b[0m\u001b[1;33m(\u001b[0m\u001b[1;34mf\"Solution : {winner} = {displayable_chromosome(winner)}, computed : {compute_chromosome(winner)}, value : {winner.fitness}\"\u001b[0m\u001b[1;33m)\u001b[0m\u001b[1;33m\u001b[0m\u001b[1;33m\u001b[0m\u001b[0m\n\u001b[0m\u001b[0;32m     48\u001b[0m \u001b[1;32melse\u001b[0m \u001b[1;33m:\u001b[0m\u001b[1;33m\u001b[0m\u001b[1;33m\u001b[0m\u001b[0m\n\u001b[0;32m     49\u001b[0m     \u001b[0mprint\u001b[0m\u001b[1;33m(\u001b[0m\u001b[1;34mf\"Solution not found\"\u001b[0m\u001b[1;33m)\u001b[0m\u001b[1;33m\u001b[0m\u001b[1;33m\u001b[0m\u001b[0m\n",
      "\u001b[1;31mNameError\u001b[0m: name 'displayable_chromosome' is not defined"
     ]
    }
   ],
   "source": [
    "#init pop\n",
    "pop = toolbox.init_population(n=10)\n",
    "#give base fitness\n",
    "toolbox.evaluate(pop, TARGET)\n",
    "#init time\n",
    "start = time.time()\n",
    "timePassed=0\n",
    "iterations = 0\n",
    "\n",
    "#while loop\n",
    "while timePassed < MAX_TIME and len(find_winners(pop)) <= 0 :\n",
    "    # --- SEL ---\n",
    "    offspring = toolbox.select(pop, len(pop), tournSize)\n",
    "    offspring = list(map(toolbox.clone, offspring))\n",
    "\n",
    "    # --- MATE&MUTATE ---\n",
    "    #mate\n",
    "    for child1, child2 in zip(offspring[::2], offspring[1::2]):\n",
    "        if random.random() < CXPB:\n",
    "            toolbox.mate(child1, child2)\n",
    "    #mutate\n",
    "    for mutant in offspring:\n",
    "        if random.random() < MUTPB:\n",
    "            toolbox.mutate(mutant)\n",
    "\n",
    "    \n",
    "    #remplace pop\n",
    "    pop = offspring\n",
    "    #pop eval\n",
    "    toolbox.evaluate(pop, TARGET)\n",
    "\n",
    "    # Search for the solution\n",
    "    fitnesses = [ind.fitness.values[0] for ind in pop]\n",
    "    min_fit = min(fitnesses)\n",
    "    best = pop[fitnesses.index(min_fit)]\n",
    "    if not solution or best.fitness.values[0] < solution.fitness.values[0]:\n",
    "        solution = best\n",
    "\n",
    "    #calculate end time\n",
    "    timePassed = time.time() - start\n",
    "    iterations += 1\n",
    "\n",
    "winner = solution if solution is not None else find_winners(pop)\n",
    "if winner :\n",
    "    print(f\"winner : {winner}\")\n",
    "    print(f\"found in {iterations} iterations and {timePassed}s\")\n",
    "    print(f\"Solution : {winner} = {displayable_chromosome(winner)}, computed : {compute_chromosome(winner)}, value : {winner.fitness}\")\n",
    "else :\n",
    "    print(f\"Solution not found\")"
   ]
  },
  {
   "cell_type": "markdown",
   "metadata": {},
   "source": [
    "## TODO 3: Advanced - Find the best Hyperparameters (optional)\n",
    "- Which are the **best**:\n",
    "    - population size  \n",
    "    - frequence of mutation\n",
    "    - frequence of crossover\n",
    "    - ...\n",
    "- Implement the elitism, the best N individuals will surely survive (N = 2) and without undergoing mutation"
   ]
  }
 ],
 "metadata": {
  "kernelspec": {
   "name": "python3",
   "display_name": "Python 3.7.2 64-bit",
   "metadata": {
    "interpreter": {
     "hash": "b7493132d2a29fb0cbd05781f33c135aed7a8888de76c7ef88620c7112fb8ea4"
    }
   }
  },
  "language_info": {
   "codemirror_mode": {
    "name": "ipython",
    "version": 3
   },
   "file_extension": ".py",
   "mimetype": "text/x-python",
   "name": "python",
   "nbconvert_exporter": "python",
   "pygments_lexer": "ipython3",
   "version": "3.7.2-final"
  }
 },
 "nbformat": 4,
 "nbformat_minor": 4
}