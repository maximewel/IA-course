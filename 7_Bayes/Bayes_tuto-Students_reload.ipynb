{
 "cells": [
  {
   "cell_type": "code",
   "execution_count": 244,
   "metadata": {},
   "outputs": [],
   "source": [
    "import numpy as np"
   ]
  },
  {
   "cell_type": "markdown",
   "metadata": {},
   "source": [
    "# Naives Bayes Classifier"
   ]
  },
  {
   "source": [
    "Dans cette série il y a deux partie. La prémière utilisera un dataset très simple pour mettre en place les étapes de traitement. \n",
    "Dans la deuxième étape, un dataset plus consequent sera utilisé. "
   ],
   "cell_type": "markdown",
   "metadata": {}
  },
  {
   "cell_type": "markdown",
   "metadata": {},
   "source": [
    "## The dataset"
   ]
  },
  {
   "cell_type": "code",
   "execution_count": 245,
   "metadata": {},
   "outputs": [],
   "source": [
    "# Assigning features and label variables\n",
    "\n",
    "# Feature 1\n",
    "weather = ['Sunny','Sunny','Overcast','Rainy','Rainy','Rainy','Overcast','Sunny','Sunny','Rainy','Sunny','Overcast','Overcast','Rainy']\n",
    "\n",
    "# Feature 2\n",
    "temp = ['Hot','Hot','Hot','Mild','Cool','Cool','Cool','Mild','Cool','Mild','Mild','Mild','Hot','Mild']\n",
    "\n",
    "# Label\n",
    "play = ['No','No','Yes','Yes','Yes','No','Yes','No','Yes','Yes','Yes','Yes','Yes','No']"
   ]
  },
  {
   "source": [
    "### TODO 1 : Data preparation\n",
    "\n",
    "#### - Encoder les labels entre 0 et 1 moins le nombre de classes.\n",
    "\n",
    "Les modèles de Scikit-Learn ont besoin de chiffres pour les « labels ». \n",
    "La première tâche sera donc de transformer (encoder) les labels en chiffres.\n",
    "Pour ce faire, utiliser la bibliothèque ```LabelEncoder``` de Scikit-learn \n",
    "\n",
    "Cette opération est connue sous le nom de « label encoding »\n",
    "#### - Faire la même chose pour les caractéristiques (_features_)\n"
   ],
   "cell_type": "markdown",
   "metadata": {}
  },
  {
   "cell_type": "code",
   "execution_count": 246,
   "metadata": {},
   "outputs": [],
   "source": [
    "# Import LabelEncoder\n",
    "from sklearn import preprocessing"
   ]
  },
  {
   "cell_type": "code",
   "execution_count": 247,
   "metadata": {},
   "outputs": [],
   "source": [
    "# TODO: Convert string labels into numbers.\n",
    "labEncoder = preprocessing.LabelEncoder()\n",
    "label = labEncoder.fit_transform(play)\n"
   ]
  },
  {
   "cell_type": "code",
   "execution_count": 248,
   "metadata": {},
   "outputs": [
    {
     "output_type": "stream",
     "name": "stdout",
     "text": [
      "[0 0 1 1 1 0 1 0 1 1 1 1 1 0]\n"
     ]
    }
   ],
   "source": [
    "print(label)"
   ]
  },
  {
   "cell_type": "code",
   "execution_count": 249,
   "metadata": {},
   "outputs": [],
   "source": [
    "# TODO: Convert string features into numbers\n",
    "weather_encoded = labEncoder.fit_transform(weather) #f1\n",
    "temp_encoded = labEncoder.fit_transform(temp) #f2\n"
   ]
  },
  {
   "cell_type": "code",
   "execution_count": 250,
   "metadata": {},
   "outputs": [
    {
     "output_type": "stream",
     "name": "stdout",
     "text": [
      "Temp:  [1 1 1 2 0 0 0 2 0 2 2 2 1 2]\nWeather:  [2 2 0 1 1 1 0 2 2 1 2 0 0 1]\n"
     ]
    }
   ],
   "source": [
    "print(\"Temp: \", temp_encoded)\n",
    "print(\"Weather: \", weather_encoded)"
   ]
  },
  {
   "cell_type": "code",
   "execution_count": 251,
   "metadata": {},
   "outputs": [
    {
     "output_type": "execute_result",
     "data": {
      "text/plain": [
       "(14, 2)"
      ]
     },
     "metadata": {},
     "execution_count": 251
    }
   ],
   "source": [
    "features = np.column_stack((temp_encoded, weather_encoded))\n",
    "features.shape"
   ]
  },
  {
   "cell_type": "markdown",
   "metadata": {},
   "source": [
    "### TODO 2 - Génération du modèle\n",
    "Générez un modèle d'apprentissage à l'aide du classificateur bayésien naïf en procédant comme suit :\n",
    "\n",
    "* Créer un classificateur bayésien naïf (```GaussianNB```)\n",
    "    * https://scikit-learn.org/stable/modules/generated/sklearn.naive_bayes.GaussianNB.html\n",
    "* Entrainement : _Fit_ le jeu de données sur le classificateur\n",
    "* Prédiction: Effectuer une prédiction (ex. overcast + mild) et prédire si le joueur jouera ou pas\n"
   ]
  },
  {
   "cell_type": "code",
   "execution_count": 252,
   "metadata": {},
   "outputs": [],
   "source": [
    "# Import Gaussian Naive Bayes model\n",
    "from sklearn.naive_bayes import GaussianNB"
   ]
  },
  {
   "cell_type": "code",
   "execution_count": 253,
   "metadata": {},
   "outputs": [
    {
     "output_type": "stream",
     "name": "stdout",
     "text": [
      "Predicted Value: [0]\n"
     ]
    }
   ],
   "source": [
    "# Create a Gaussian Classifier\n",
    "clf = GaussianNB()\n",
    "model = clf.fit(features, label)\n",
    "\n",
    "#Predict Output\n",
    "predicted= model.predict([[0,2]]) # 0:Overcast, 2:Mild\n",
    "print(\"Predicted Value:\", predicted)"
   ]
  },
  {
   "cell_type": "markdown",
   "metadata": {},
   "source": [
    "### TODO 3: utiliser le dataset en entrée pour estimer l'accuracy des vos predictions \n",
    "_(Attention ! on est en train de faire de l'overfit !)_\n",
    "\n",
    "L'__accuracy__ (français: précision) est une mesure permettant d’évaluer les modèles de classification. Formellement, l'accuracy a la définition suivante :\n",
    "\n",
    "\\begin{equation*}\n",
    "Accuracy =  \\frac{Number\\ of\\ correct\\ predictions}{Total\\ number\\ of\\ predictions}\n",
    "\\end{equation*}"
   ]
  },
  {
   "cell_type": "code",
   "execution_count": 254,
   "metadata": {},
   "outputs": [
    {
     "output_type": "stream",
     "name": "stdout",
     "text": [
      "Accuracy : 71.42857142857143%\n"
     ]
    }
   ],
   "source": [
    "# your code here\n",
    "\n",
    "accuracy = model.score(features, label)\n",
    "print(f\"Accuracy : {100*accuracy}%\")\n",
    "#OVERFIT : Car on test l'accuracy sur le jeu de données sur lequel on a fit, c'est inutile (litérallement de \n",
    "# l'apprentissage par coeur)\n"
   ]
  },
  {
   "cell_type": "markdown",
   "metadata": {},
   "source": [
    "# Wine dataset"
   ]
  },
  {
   "cell_type": "markdown",
   "metadata": {},
   "source": [
    "Jusqu'à présent, vous avez appliqué la classificateur Naïve Bayes avec des étiquettes binaires. Vous allez maintenant utiliser Naïve Bayes pour la classification avec plusieurs classes (>2). Ce qui est connu comme la classification multinomiale. \n",
    "\n",
    "Dans la partie construction du modèle, vous pouvez utiliser le jeu de données \"wine dataset\" qui est un très célèbre problème de classification multi-classes. \"_This dataset is the result of a chemical analysis of wines grown in the same region in Italy but derived from three different cultivars_\" (source UC Irvine).\n",
    "\n",
    "Le jeu de données comprend 13 caractéristiques (alcool, acide malique, cendres, alcalinité, magnésium, phénols totaux, flavonoïdes, phénols non flavanoïdes, proanthocyanines, intensité de la couleur, teinte, od280 / od315_de_diluted_wines, proline) et, comme label, le type de viticulture. Ces données ont trois types de vin : class_0, class_1 et class_3. \n",
    "\n",
    "GOAL : Le but ici est de construire un modèle pour classer le type de vin.\n",
    "\n",
    "Le jeu de données est disponible directement dans la bibliothèque Scikit-learn.\n"
   ]
  },
  {
   "cell_type": "code",
   "execution_count": 255,
   "metadata": {},
   "outputs": [
    {
     "output_type": "stream",
     "name": "stdout",
     "text": [
      "Features:  ['alcohol', 'malic_acid', 'ash', 'alcalinity_of_ash', 'magnesium', 'total_phenols', 'flavanoids', 'nonflavanoid_phenols', 'proanthocyanins', 'color_intensity', 'hue', 'od280/od315_of_diluted_wines', 'proline']\nLabels:  ['class_0' 'class_1' 'class_2']\n"
     ]
    }
   ],
   "source": [
    "#Import scikit-learn dataset library\n",
    "from sklearn import datasets\n",
    "\n",
    "#Load dataset\n",
    "wine = datasets.load_wine()\n",
    "\n",
    "# print the names of the 13 features\n",
    "print(\"Features: \", wine.feature_names)\n",
    "\n",
    "# print the label type of wine(class_0, class_1, class_2)\n",
    "print(\"Labels: \", wine.target_names)"
   ]
  },
  {
   "cell_type": "code",
   "execution_count": 256,
   "metadata": {},
   "outputs": [
    {
     "output_type": "stream",
     "name": "stdout",
     "text": [
      "<class 'numpy.ndarray'> (178, 13)\n"
     ]
    }
   ],
   "source": [
    "print(type(wine.data), wine.data.shape)"
   ]
  },
  {
   "cell_type": "markdown",
   "metadata": {},
   "source": [
    "#### Mini-TODO: afficher les premières 4 lignes du dataset"
   ]
  },
  {
   "cell_type": "code",
   "execution_count": 257,
   "metadata": {},
   "outputs": [
    {
     "output_type": "stream",
     "name": "stdout",
     "text": [
      "[[1.423e+01 1.710e+00 2.430e+00 1.560e+01 1.270e+02 2.800e+00 3.060e+00\n  2.800e-01 2.290e+00 5.640e+00 1.040e+00 3.920e+00 1.065e+03]\n [1.320e+01 1.780e+00 2.140e+00 1.120e+01 1.000e+02 2.650e+00 2.760e+00\n  2.600e-01 1.280e+00 4.380e+00 1.050e+00 3.400e+00 1.050e+03]\n [1.316e+01 2.360e+00 2.670e+00 1.860e+01 1.010e+02 2.800e+00 3.240e+00\n  3.000e-01 2.810e+00 5.680e+00 1.030e+00 3.170e+00 1.185e+03]\n [1.437e+01 1.950e+00 2.500e+00 1.680e+01 1.130e+02 3.850e+00 3.490e+00\n  2.400e-01 2.180e+00 7.800e+00 8.600e-01 3.450e+00 1.480e+03]]\n"
     ]
    }
   ],
   "source": [
    "# print the wine data features (top 4 records)\n",
    "print(wine.data[:4])\n",
    "\n"
   ]
  },
  {
   "cell_type": "markdown",
   "metadata": {},
   "source": [
    "#### Mini-TODO: afficher les labels"
   ]
  },
  {
   "cell_type": "code",
   "execution_count": 258,
   "metadata": {},
   "outputs": [
    {
     "output_type": "stream",
     "name": "stdout",
     "text": [
      "['class_0' 'class_1' 'class_2']\n"
     ]
    }
   ],
   "source": [
    "# print the wine labels (0:Class_0, 1:class_2, 2:class_2)\n",
    "\n",
    "print(wine.target_names)\n",
    "\n",
    "\n"
   ]
  },
  {
   "cell_type": "markdown",
   "metadata": {},
   "source": [
    "### TODO 4: splitting the data"
   ]
  },
  {
   "cell_type": "markdown",
   "metadata": {},
   "source": [
    "First, you separate the columns into dependent and independent variables (or features and label). Then you split those variables into train and test set.\n",
    "- Utiliser la methode __train_test_split__\n",
    "- Utiliser 70% du data set pour l'entrainement et 30% pour le test\n",
    "\n",
    "(note: fixer un random state, ex. 37)"
   ]
  },
  {
   "cell_type": "code",
   "execution_count": 259,
   "metadata": {},
   "outputs": [],
   "source": [
    "from sklearn.model_selection import train_test_split\n",
    "\n",
    "# Import train_test_split function\n",
    "X_wine = wine.data\n",
    "y_wine = wine.target\n",
    "\n",
    "X_train, X_test, y_train, y_test = train_test_split(X_wine, y_wine, test_size=0.3, train_size=0.7, random_state=37, shuffle=True)"
   ]
  },
  {
   "cell_type": "markdown",
   "metadata": {},
   "source": [
    "### TODO 5: Entrainer le modèle"
   ]
  },
  {
   "cell_type": "code",
   "execution_count": 260,
   "metadata": {},
   "outputs": [],
   "source": [
    "#Import Gaussian Naive Bayes model\n",
    "clf = GaussianNB()\n",
    "model = clf.fit(X_train, y_train)"
   ]
  },
  {
   "cell_type": "markdown",
   "metadata": {},
   "source": [
    "### TODO 6: Evaluer les performances\n",
    "- Afficher la matrice de confusion, via la méthode ```metrics.confusion_matrix``` ou ```plot_confusion_matrix```; dans la documentation de scikit-learn (ou dans les résultats) chercher comment les TP, TN, FP et FN sont ordonnés dans la matrice de confusion \n",
    "- Utiliser l'accuracy, via la méthode __metrics.accuracy_score__ sur les predictions sur le test set\n",
    "- Utiliser le F1-score, via la méthode __metrics.f1_score__ sur les predictions sur le test set\n",
    "    - Tester vos résultats avec ```average='macro'``` et  ```average='micro'```, quelle est la différence ?"
   ]
  },
  {
   "cell_type": "code",
   "execution_count": 261,
   "metadata": {},
   "outputs": [
    {
     "output_type": "stream",
     "name": "stdout",
     "text": [
      "Accuracy : 92.5925925925926%\n",
      "Macro :\n",
      "\tF1 score micro : 0.9259259259259259\n",
      "\tF1 score macro : 0.9264121264121264\n"
     ]
    },
    {
     "output_type": "execute_result",
     "data": {
      "text/plain": [
       "<sklearn.metrics._plot.confusion_matrix.ConfusionMatrixDisplay at 0x1defd8af8d0>"
      ]
     },
     "metadata": {},
     "execution_count": 261
    },
    {
     "output_type": "display_data",
     "data": {
      "text/plain": "<Figure size 432x288 with 2 Axes>",
      "image/png": "[encoded data removed]"
     },
     "metadata": {
      "needs_background": "light"
     }
    }
   ],
   "source": [
    "from sklearn import metrics\n",
    "import matplotlib.pyplot as plt  \n",
    "from sklearn.metrics import plot_confusion_matrix\n",
    "\n",
    "# make predicate\n",
    "y_pred = model.predict(X_test)\n",
    "\n",
    "#print stats\n",
    "accuracy = metrics.accuracy_score(y_test, y_pred)\n",
    "f1ScoreMicro = metrics.f1_score(y_test, y_pred, average=\"micro\")\n",
    "f1ScoreMacro = metrics.f1_score(y_test, y_pred, average=\"macro\")\n",
    "\n",
    "print(f\"Accuracy : {100*accuracy}%\\nMacro :\\n\\tF1 score micro : {f1ScoreMicro}\\n\\tF1 score macro : {f1ScoreMacro}\")\n",
    "\n",
    "#plot matrix\n",
    "plot_confusion_matrix(model, X_test, y_test)\n"
   ]
  }
 ],
 "metadata": {
  "kernelspec": {
   "name": "python3",
   "display_name": "Python 3.7.2 64-bit",
   "metadata": {
    "interpreter": {
     "hash": "b7493132d2a29fb0cbd05781f33c135aed7a8888de76c7ef88620c7112fb8ea4"
    }
   }
  },
  "language_info": {
   "codemirror_mode": {
    "name": "ipython",
    "version": 3
   },
   "file_extension": ".py",
   "mimetype": "text/x-python",
   "name": "python",
   "nbconvert_exporter": "python",
   "pygments_lexer": "ipython3",
   "version": "3.7.2-final"
  }
 },
 "nbformat": 4,
 "nbformat_minor": 2
}